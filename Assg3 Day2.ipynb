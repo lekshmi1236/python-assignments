{
 "cells": [
  {
   "cell_type": "markdown",
   "metadata": {},
   "source": [
    "# Experiment with atleast 5 default fcns in python"
   ]
  },
  {
   "cell_type": "code",
   "execution_count": 2,
   "metadata": {},
   "outputs": [
    {
     "data": {
      "text/plain": [
       "{'name': 'krish', 'age': 20, 'place': 'kerala'}"
      ]
     },
     "execution_count": 2,
     "metadata": {},
     "output_type": "execute_result"
    }
   ],
   "source": [
    "d1={\"name\":\"krish\",\"age\":20,\"place\":\"kerala\"}\n",
    "d1"
   ]
  },
  {
   "cell_type": "code",
   "execution_count": 9,
   "metadata": {},
   "outputs": [],
   "source": [
    "d1={\"sub\":{\"name\":\"krish\",\"age\":20,\"place\":\"kerala\"},\"a\":1,\"b\":2} # clear all the elements from dict\n",
    "d1.clear()\n"
   ]
  },
  {
   "cell_type": "code",
   "execution_count": 17,
   "metadata": {},
   "outputs": [
    {
     "name": "stdout",
     "output_type": "stream",
     "text": [
      "{'sub': {'name': 'krish'}, 'a': {'name': 'krish'}, 'b': {'name': 'krish'}}\n"
     ]
    }
   ],
   "source": [
    "d1={\"sub\":{\"name\":\"krish\",\"age\":20,\"place\":\"kerala\"},\"a\":1,\"b\":2}\n",
    "d2={\"name\":\"krish\"}\n",
    "y=d1.fromkeys(d1,d2)\n",
    "print(y)        "
   ]
  },
  {
   "cell_type": "code",
   "execution_count": 18,
   "metadata": {},
   "outputs": [
    {
     "data": {
      "text/plain": [
       "dict_items([('name', 'krish'), ('age', 20), ('place', 'kerala')])"
      ]
     },
     "execution_count": 18,
     "metadata": {},
     "output_type": "execute_result"
    }
   ],
   "source": [
    "d1={\"name\":\"krish\",\"age\":20,\"place\":\"kerala\"}# return a list containing a tuple with key value pair\n",
    "d1.items()"
   ]
  },
  {
   "cell_type": "code",
   "execution_count": 23,
   "metadata": {},
   "outputs": [
    {
     "data": {
      "text/plain": [
       "('b', 2)"
      ]
     },
     "execution_count": 23,
     "metadata": {},
     "output_type": "execute_result"
    }
   ],
   "source": [
    "d1={\"sub\":{\"name\":\"krish\",\"age\":20,\"place\":\"kerala\"},\"a\":1,\"b\":2} # rmoves the last key value pair\n",
    "d1.popitem()"
   ]
  },
  {
   "cell_type": "code",
   "execution_count": 32,
   "metadata": {},
   "outputs": [
    {
     "ename": "SyntaxError",
     "evalue": "invalid syntax (<ipython-input-32-63a8d37017f2>, line 2)",
     "output_type": "error",
     "traceback": [
      "\u001b[1;36m  File \u001b[1;32m\"<ipython-input-32-63a8d37017f2>\"\u001b[1;36m, line \u001b[1;32m2\u001b[0m\n\u001b[1;33m    d.update({\"s\":\"7})\u001b[0m\n\u001b[1;37m    ^\u001b[0m\n\u001b[1;31mSyntaxError\u001b[0m\u001b[1;31m:\u001b[0m invalid syntax\n"
     ]
    }
   ],
   "source": [
    "d={\"sub\":{\"name\":\"krish\",\"age\":20,\"place\":\"kerala\"}\n",
    "d.update({\"s\":\"7})\n"
   ]
  },
  {
   "cell_type": "code",
   "execution_count": 34,
   "metadata": {},
   "outputs": [
    {
     "data": {
      "text/plain": [
       "dict_values(['krish', 20, 'kerala', 1, 2])"
      ]
     },
     "execution_count": 34,
     "metadata": {},
     "output_type": "execute_result"
    }
   ],
   "source": [
    "d={\"name\":\"krish\",\"age\":20,\"place\":\"kerala\",\"a\":1,\"b\":2} # only values will be given\n",
    "d.values()"
   ]
  },
  {
   "cell_type": "code",
   "execution_count": 36,
   "metadata": {},
   "outputs": [
    {
     "data": {
      "text/plain": [
       "{'sub': {'name': 'krish', 'age': 20, 'place': 'kerala'}, 'a': 1, 'b': 2}"
      ]
     },
     "execution_count": 36,
     "metadata": {},
     "output_type": "execute_result"
    }
   ],
   "source": [
    "d={\"sub\":{\"name\":\"krish\",\"age\":20,\"place\":\"kerala\"},\"a\":1,\"b\":2}  # copy the same dict\n",
    "d.copy()"
   ]
  },
  {
   "cell_type": "code",
   "execution_count": null,
   "metadata": {},
   "outputs": [],
   "source": []
  }
 ],
 "metadata": {
  "kernelspec": {
   "display_name": "Python 3",
   "language": "python",
   "name": "python3"
  },
  "language_info": {
   "codemirror_mode": {
    "name": "ipython",
    "version": 3
   },
   "file_extension": ".py",
   "mimetype": "text/x-python",
   "name": "python",
   "nbconvert_exporter": "python",
   "pygments_lexer": "ipython3",
   "version": "3.8.3"
  }
 },
 "nbformat": 4,
 "nbformat_minor": 4
}
